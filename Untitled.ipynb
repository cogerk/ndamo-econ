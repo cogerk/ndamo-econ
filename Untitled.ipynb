{
 "cells": [
  {
   "cell_type": "markdown",
   "metadata": {},
   "source": [
    "# DAMO Economic Feasibility Study\n",
    "\n",
    "Compare advantages and disadvantages the following concepts based on:\n",
    "- Oxygen Demand\n",
    "- Sludge Production\n",
    "\n",
    "4) Please assume two scenarios: \n",
    "A) the ammonium laden reject water from a digester needs to be treated for nitrogen removal (assume that COD is not present in the reject water)\n",
    "B) the main line needs to be treated for nitrogen removal (assume that there is enough COD present for denitrification)\n",
    "Please discuss the advantages and disadvantages (e.g. in terms of oxygen demand, sludge production, etc.) of using treatment concepts a-e for scenario A and B\n",
    "a) conventional nitrification-denitrification \n",
    "b) anaerobic and aerobic ammonium oxidizing bacteria\n",
    "c) Anammox bacteria and aerobic ammonium oxidizing archaea \n",
    "d) nitrate oxidizing bacteria, anaerobic methane oxidizing archaea and Anammox \n",
    "e) nitrate oxidizing bacteria, anaerobic methane oxidizing archaea and anaerobic methane oxidizing bacteria. \n",
    "For d and e assume that there is enough methane available (either originating from the digester or supplied externally) for denitrification purposes. \n",
    "-Write down all stoichiometric reactions for a-e. "
   ]
  },
  {
   "cell_type": "markdown",
   "metadata": {},
   "source": [
    "For scenario A) \"the ammonium laden reject water from a digester needs to be treated for nitrogen removal (assume that COD is not present in the reject water\", assume N concentration at:"
   ]
  },
  {
   "cell_type": "code",
   "execution_count": 3,
   "metadata": {
    "collapsed": false
   },
   "outputs": [],
   "source": [
    "A_N_In = 2000 #gN/m3"
   ]
  },
  {
   "cell_type": "markdown",
   "metadata": {},
   "source": [
    "For scenario B) \"the main line needs to be treated for nitrogen removal (assume that there is enough COD present for denitrification)\", assume N concentration at:"
   ]
  },
  {
   "cell_type": "code",
   "execution_count": 4,
   "metadata": {
    "collapsed": true
   },
   "outputs": [],
   "source": [
    "B_N_In = 20 #gN/m3"
   ]
  },
  {
   "cell_type": "markdown",
   "metadata": {},
   "source": [
    "For both scenarios, all COD requirements are already in the influent."
   ]
  },
  {
   "cell_type": "markdown",
   "metadata": {},
   "source": [
    "![conventional nitirification/denitrification](layouts/Slide1.jpg)"
   ]
  },
  {
   "cell_type": "markdown",
   "metadata": {},
   "source": [
    "a) "
   ]
  }
 ],
 "metadata": {
  "kernelspec": {
   "display_name": "Python 3",
   "language": "python",
   "name": "python3"
  },
  "language_info": {
   "codemirror_mode": {
    "name": "ipython",
    "version": 3
   },
   "file_extension": ".py",
   "mimetype": "text/x-python",
   "name": "python",
   "nbconvert_exporter": "python",
   "pygments_lexer": "ipython3",
   "version": "3.5.1"
  }
 },
 "nbformat": 4,
 "nbformat_minor": 0
}
